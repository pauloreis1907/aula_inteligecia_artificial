{
 "cells": [
  {
   "cell_type": "markdown",
   "id": "1a0d3ca8-8372-4d2b-8299-13b661e30099",
   "metadata": {},
   "source": [
    "#### Variáveis\n",
    "Propriedades:\n",
    "- Nome\n",
    "- Tipo\n",
    "- Valor\n",
    "\n",
    "Regras para nomeação:\n",
    "- Deve começar com letra ou \"_\"(underline)\n",
    "- Não pode começar com número\n",
    "- Evitar utilizar caracteres não alfanuméricos (que não sejam letras ou números)\n"
   ]
  },
  {
   "cell_type": "markdown",
   "id": "bd157159-6f16-45eb-9622-e2bce803ca25",
   "metadata": {},
   "source": [
    "#### Tipos de dados primitivos\n",
    "Numéricos: \n",
    "* Inteiros (int)\n",
    "* Reais (float)\n",
    "\n",
    "Textual:\n",
    "* Cadeia de caracteres ou String (str)\n",
    "\n",
    "Lógicos:\n",
    "* Booleano/Lógico (bool)"
   ]
  },
  {
   "cell_type": "code",
   "execution_count": 15,
   "id": "7d7f4705-8009-47ed-aa7e-a7be2b97bd07",
   "metadata": {},
   "outputs": [
    {
     "data": {
      "text/plain": [
       "int"
      ]
     },
     "execution_count": 15,
     "metadata": {},
     "output_type": "execute_result"
    }
   ],
   "source": [
    "meu_nome = 'André' # string (str) \n",
    "ano = 2025 # inteiro (int)\n",
    "juros = 0.66 # real (float)\n",
    "teste = 5>3 # lógico ou booleano (bool)\n",
    "# Função type()\n",
    "type(ano)"
   ]
  },
  {
   "cell_type": "code",
   "execution_count": 24,
   "id": "9840d2a1-708c-4821-ac2c-ddbbb321194c",
   "metadata": {},
   "outputs": [
    {
     "name": "stdin",
     "output_type": "stream",
     "text": [
      "Informe o ano atual:  2025\n"
     ]
    }
   ],
   "source": [
    "#print('Oi meu nome é André.') # Comando de saída\n",
    "# Função input() ----> Comando de entrada de dados\n",
    "#nome_comp = input('Informe seu nome completo: ')\n",
    "\n",
    "ano = int(input('Informe o ano atual: '))\n"
   ]
  },
  {
   "cell_type": "markdown",
   "id": "7d5a773d-44c4-406a-9548-78510733f95b",
   "metadata": {},
   "source": [
    "1. Saudação com Nome \\\n",
    "Peça ao usuário que informe seu nome e exiba uma mensagem de boas-vindas personalizada."
   ]
  },
  {
   "cell_type": "code",
   "execution_count": 28,
   "id": "60554bdc-f97a-4bc8-b9f3-ff9d0779976e",
   "metadata": {},
   "outputs": [
    {
     "name": "stdin",
     "output_type": "stream",
     "text": [
      "Informe seu nome:  André\n"
     ]
    },
    {
     "name": "stdout",
     "output_type": "stream",
     "text": [
      "Seja bem-vindo André\n"
     ]
    }
   ],
   "source": [
    "nome = input('Informe seu nome: ')\n",
    "print(f'Seja bem-vindo {nome}')"
   ]
  },
  {
   "cell_type": "markdown",
   "id": "0cecb0b7-0c41-4c14-b5c8-11479c4c6c46",
   "metadata": {},
   "source": [
    "2. Soma de Dois Números\\\n",
    "Solicite ao usuário que insira dois números inteiros e imprima a soma."
   ]
  },
  {
   "cell_type": "code",
   "execution_count": 32,
   "id": "e1b1e554-7594-4c27-aba5-7a79dc144892",
   "metadata": {},
   "outputs": [
    {
     "name": "stdin",
     "output_type": "stream",
     "text": [
      "Informe o primeiro número inteiro:  15\n",
      "Informe o segundo número inteiro:  10\n"
     ]
    },
    {
     "name": "stdout",
     "output_type": "stream",
     "text": [
      "A soma é: 25\n"
     ]
    }
   ],
   "source": [
    "numero1 = int(input('Informe o primeiro número inteiro: '))\n",
    "numero2 = int(input('Informe o segundo número inteiro: '))\n",
    "soma = numero1 + numero2\n",
    "print(f'A soma é: {soma}')"
   ]
  },
  {
   "cell_type": "markdown",
   "id": "1287e8ef-2679-42e2-9665-b31e9650afb4",
   "metadata": {},
   "source": [
    "3. Operações Aritméticas Básicas\\\n",
    "Leia dois números e, em sequência, calcule e exiba a soma, subtração,\n",
    "multiplicação e divisão."
   ]
  },
  {
   "cell_type": "code",
   "execution_count": 34,
   "id": "dfdcf136-c66e-4910-aa59-cf0de29f0123",
   "metadata": {},
   "outputs": [
    {
     "name": "stdin",
     "output_type": "stream",
     "text": [
      "Informe o primeiro número inteiro:  40\n",
      "Informe o segundo número inteiro:  60\n"
     ]
    },
    {
     "name": "stdout",
     "output_type": "stream",
     "text": [
      "Adição: 100\n",
      "Subtração: -20\n",
      "Multiplicação: 2400\n",
      "Divisão: 0.67\n"
     ]
    }
   ],
   "source": [
    "num1 = int(input('Informe o primeiro número inteiro: '))\n",
    "num2 = int(input('Informe o segundo número inteiro: '))\n",
    "soma = num1 + num2\n",
    "subtracao = num1 - num2\n",
    "multiplcacao = num1 * num2\n",
    "divisao = num1 / num2\n",
    "print(f'Adição: {soma}')\n",
    "print(f'Subtração: {subtracao}')\n",
    "print(f'Multiplicação: {multiplcacao}')\n",
    "print(f'Divisão: {divisao:.2f}')"
   ]
  },
  {
   "cell_type": "code",
   "execution_count": 38,
   "id": "3ec8cd08-0c08-453b-9766-c950a61cd7d3",
   "metadata": {},
   "outputs": [
    {
     "name": "stdin",
     "output_type": "stream",
     "text": [
      "Informe o primeiro número inteiro:  30\n",
      "Informe o segundo número inteiro:  15\n"
     ]
    },
    {
     "name": "stdout",
     "output_type": "stream",
     "text": [
      "Adição: 45\n",
      "Subtração: 15\n",
      "Multiplicação: 450\n",
      "Divisão: 2.00\n"
     ]
    }
   ],
   "source": [
    "num1 = int(input('Informe o primeiro número inteiro: '))\n",
    "num2 = int(input('Informe o segundo número inteiro: '))\n",
    "print(f'Adição: {num1+num2}')\n",
    "print(f'Subtração: {num1-num2}')\n",
    "print(f'Multiplicação: {num1*num2}')\n",
    "print(f'Divisão: {num1/num2:.2f}')"
   ]
  },
  {
   "cell_type": "markdown",
   "id": "50f9c6e9-e7c1-4590-ab72-828702629402",
   "metadata": {},
   "source": [
    "4. Exibição de Dados Pessoais\\\n",
    "Peça que o usuário informe seu nome, idade e cidade e imprima essas informações de forma formatada."
   ]
  },
  {
   "cell_type": "code",
   "execution_count": 40,
   "id": "e9c80e0a-831a-4f37-8424-a021fe5e8e7e",
   "metadata": {},
   "outputs": [
    {
     "name": "stdin",
     "output_type": "stream",
     "text": [
      "Informe seu nome:  André Resplandes\n",
      "Informe sua idade:  18\n",
      "Informe sua cidade:  Tefé\n"
     ]
    },
    {
     "name": "stdout",
     "output_type": "stream",
     "text": [
      "Olá, André Resplandes, você tem 18 anos e mora na cidade de Tefé.\n"
     ]
    }
   ],
   "source": [
    "nome = input('Informe seu nome: ')\n",
    "idade = int(input('Informe sua idade: '))\n",
    "cidade = input('Informe sua cidade: ')\n",
    "print(f'Olá, {nome}, você tem {idade} anos e mora na cidade de {cidade}.')"
   ]
  },
  {
   "cell_type": "code",
   "execution_count": 58,
   "id": "129dac00-18e5-4709-ac31-20baa11513c0",
   "metadata": {},
   "outputs": [
    {
     "name": "stdin",
     "output_type": "stream",
     "text": [
      "Informe a taxa de juros:  .25\n"
     ]
    },
    {
     "name": "stdout",
     "output_type": "stream",
     "text": [
      "25%\n"
     ]
    }
   ],
   "source": [
    "#taxa_juros = float(input('Informe a taxa de juros: '))\n",
    "#print(f'{taxa_juros:.0%}')\n"
   ]
  }
 ],
 "metadata": {
  "kernelspec": {
   "display_name": "Python 3 (ipykernel)",
   "language": "python",
   "name": "python3"
  },
  "language_info": {
   "codemirror_mode": {
    "name": "ipython",
    "version": 3
   },
   "file_extension": ".py",
   "mimetype": "text/x-python",
   "name": "python",
   "nbconvert_exporter": "python",
   "pygments_lexer": "ipython3",
   "version": "3.12.7"
  }
 },
 "nbformat": 4,
 "nbformat_minor": 5
}
