{
 "cells": [
  {
   "cell_type": "code",
   "execution_count": 1,
   "id": "766d1a11-edb6-4b6f-b4fb-1931dcc5e597",
   "metadata": {},
   "outputs": [
    {
     "name": "stdout",
     "output_type": "stream",
     "text": [
      "[1, 2, 3, 4, 5, 6, 7, 8, 9]\n"
     ]
    }
   ],
   "source": [
    "lista = [1,2,3,4,5,6,7,8,9]\n",
    "print(lista)"
   ]
  },
  {
   "cell_type": "code",
   "execution_count": 5,
   "id": "46069a82-d806-4cea-901c-497701bbaa18",
   "metadata": {},
   "outputs": [
    {
     "name": "stdout",
     "output_type": "stream",
     "text": [
      "[1, 2, 3, 4, 6, 7, 8, 9]\n"
     ]
    }
   ],
   "source": [
    "lista.remove(5)\n",
    "print(lista)"
   ]
  },
  {
   "cell_type": "code",
   "execution_count": 2,
   "id": "f7d33941-cebd-48e8-a1c6-d4c2087e60c0",
   "metadata": {},
   "outputs": [
    {
     "name": "stdout",
     "output_type": "stream",
     "text": [
      "maçã\n",
      "banana\n",
      "uva\n",
      "['maçã', 'banana']\n",
      "['maçã', 'banana', 'laranja']\n",
      "['laranja', 'uva']\n",
      "['uva', 'laranja', 'banana', 'maçã']\n"
     ]
    }
   ],
   "source": [
    "frutas = [\"maçã\", \"banana\", \"laranja\", \"uva\"] \n",
    "print(frutas[0])    # maçã \n",
    "print(frutas[1])    # banana \n",
    "print(frutas[-1])   # laranja \n",
    "print(frutas[0:2])  # [\"maçã\", \"banana\"] \n",
    "print(frutas[:3])   # [\"maçã\", \"banana\", \"laranja\"] \n",
    "print(frutas[2:])   # [\"laranja\", \"uva\"] \n",
    "print(frutas[::-1]) # [\"uva\", \"laranja\", \"banana\", \"maçã\"] \n"
   ]
  },
  {
   "cell_type": "code",
   "execution_count": 3,
   "id": "b9121f9a-3b6a-45b4-9cbd-5f7ee2154bf6",
   "metadata": {},
   "outputs": [
    {
     "name": "stdout",
     "output_type": "stream",
     "text": [
      "['maçã', 'banana', 'laranja', 'uva', 'abacate']\n"
     ]
    }
   ],
   "source": [
    "frutas.append(\"abacate\") # adiciona mais em uma lista usar append\n",
    "print(frutas)"
   ]
  },
  {
   "cell_type": "code",
   "execution_count": 4,
   "id": "8d68e3b9-18a2-45b3-ac45-d4aff64769a8",
   "metadata": {},
   "outputs": [
    {
     "name": "stdout",
     "output_type": "stream",
     "text": [
      "['maçã', 'laranja', 'uva', 'abacate']\n"
     ]
    }
   ],
   "source": []
  },
  {
   "cell_type": "code",
   "execution_count": 6,
   "id": "7c672d33-186a-41cb-bc0f-f7d26c512f7b",
   "metadata": {},
   "outputs": [
    {
     "name": "stdout",
     "output_type": "stream",
     "text": [
      "['maçã', 'kiwi', 'laranja', 'uva', 'abacate']\n"
     ]
    }
   ],
   "source": [
    "frutas.insert(1, \"kiwi\") \n",
    "print(frutas) "
   ]
  },
  {
   "cell_type": "code",
   "execution_count": 7,
   "id": "66031634-35d6-4f1d-98c1-a6d09a623ad8",
   "metadata": {},
   "outputs": [
    {
     "name": "stdout",
     "output_type": "stream",
     "text": [
      "abacate\n",
      "['maçã', 'kiwi', 'laranja', 'uva']\n"
     ]
    }
   ],
   "source": [
    "item = frutas.pop() \n",
    "print(item) \n",
    "print(frutas) "
   ]
  },
  {
   "cell_type": "code",
   "execution_count": 13,
   "id": "d6f68668-2f2e-4069-8b6f-ffc5b20f2cea",
   "metadata": {},
   "outputs": [
    {
     "name": "stdout",
     "output_type": "stream",
     "text": [
      "['uva', 'maçã', 'laranja', 'banana']\n"
     ]
    }
   ],
   "source": [
    "#frutas = ['maçã', 'banana', 'laranja', 'uva'] \n",
    "#Inverta a ordem dos elementos da lista\n",
    "frutas = ['maçã', 'banana', 'laranja', 'uva'] \n",
    "frutas.sort(reverse=True)\n",
    "print(frutas)"
   ]
  },
  {
   "cell_type": "code",
   "execution_count": 19,
   "id": "820214f3-bc12-4bae-895c-c04048fb7557",
   "metadata": {},
   "outputs": [
    {
     "name": "stdout",
     "output_type": "stream",
     "text": [
      "tem\n"
     ]
    }
   ],
   "source": [
    "#10. frutas = ['maçã', 'banana', 'laranja', 'uva'] \n",
    "#Verifique se 'maçã' está presente na lista. \n",
    "frutas = ['maçã', 'banana', 'laranja', 'uva'] \n",
    "if 'maçã' in frutas:\n",
    "    print('tem')\n",
    "else:\n",
    "    print('nao tem')"
   ]
  }
 ],
 "metadata": {
  "kernelspec": {
   "display_name": "Python 3 (ipykernel)",
   "language": "python",
   "name": "python3"
  },
  "language_info": {
   "codemirror_mode": {
    "name": "ipython",
    "version": 3
   },
   "file_extension": ".py",
   "mimetype": "text/x-python",
   "name": "python",
   "nbconvert_exporter": "python",
   "pygments_lexer": "ipython3",
   "version": "3.12.7"
  }
 },
 "nbformat": 4,
 "nbformat_minor": 5
}
