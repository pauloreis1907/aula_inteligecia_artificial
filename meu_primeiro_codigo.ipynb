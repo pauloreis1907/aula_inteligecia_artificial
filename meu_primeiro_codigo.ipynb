{
 "cells": [
  {
   "cell_type": "code",
   "execution_count": 1,
   "id": "01c91422-84ae-4e70-bd87-135455230ec7",
   "metadata": {},
   "outputs": [
    {
     "name": "stdin",
     "output_type": "stream",
     "text": [
      "Digite seu nome p\n"
     ]
    },
    {
     "name": "stdout",
     "output_type": "stream",
     "text": [
      "ola p seja bem_vindo \n"
     ]
    }
   ],
   "source": [
    "#1. Saudação com Nome\n",
    "#Peça ao usuário que informe seu nome e exiba uma mensagem de boas-vindas\n",
    "#personalizada.\n",
    "nome = str(input('Digite seu nome'))\n",
    "print(f'ola {nome} seja bem_vindo ')"
   ]
  },
  {
   "cell_type": "code",
   "execution_count": 2,
   "id": "a7855545-fb63-4ab1-a0ad-c4fbb9056dda",
   "metadata": {},
   "outputs": [
    {
     "name": "stdin",
     "output_type": "stream",
     "text": [
      "digite o primeriro numero: 3\n",
      "digite o segundo numero numero: 3\n"
     ]
    },
    {
     "name": "stdout",
     "output_type": "stream",
     "text": [
      "Soma: 6\n"
     ]
    }
   ],
   "source": [
    "#2. Soma de Dois Números\n",
    "#Solicite ao usuário que insira dois números inteiros e imprima a soma.\n",
    "num1 = int(input('digite o primeriro numero:'))\n",
    "num2 = int(input('digite o segundo numero numero:'))\n",
    "\n",
    "soma = num1 + num2\n",
    "print('Soma:',soma)"
   ]
  },
  {
   "cell_type": "code",
   "execution_count": 3,
   "id": "57612a4e-b9a3-46f8-aef9-7750e4e3f017",
   "metadata": {},
   "outputs": [
    {
     "name": "stdin",
     "output_type": "stream",
     "text": [
      "digite o primeriro numero: 4\n",
      "digite o segundo numero numero: 5\n"
     ]
    },
    {
     "name": "stdout",
     "output_type": "stream",
     "text": [
      "Adiçao 9.0\n",
      "subtração -1.0\n",
      "multiplicação 20.0\n",
      "divisão 0.8\n"
     ]
    }
   ],
   "source": [
    "# Operações Aritméticas Básicas\n",
    "#Leia dois números e, em sequência, calcule e exiba a soma, subtração,\n",
    "#multiplicação e divisão.\n",
    "a = float(input('digite o primeriro numero:'))\n",
    "b = float(input('digite o segundo numero numero:'))\n",
    "\n",
    "adicao = a + b\n",
    "subt = a - b\n",
    "mult = a * b\n",
    "div = a / b\n",
    "print('Adiçao',adicao)\n",
    "print('subtração',subt)\n",
    "print('multiplicação',mult)\n",
    "print('divisão',div)"
   ]
  },
  {
   "cell_type": "code",
   "execution_count": 4,
   "id": "c08edf4c-47b9-4860-ac50-37ff9424c606",
   "metadata": {},
   "outputs": [
    {
     "name": "stdin",
     "output_type": "stream",
     "text": [
      "Digite seu nome: f\n",
      "Digite sua idade: 5\n",
      "Digite sua cidade: h\n"
     ]
    },
    {
     "name": "stdout",
     "output_type": "stream",
     "text": [
      "Seu nome é f, sua idade é 5, Sua cidade h\n"
     ]
    }
   ],
   "source": [
    "#Exibição de Dados Pessoais\n",
    "#Peça que o usuário informe seu nome, idade e cidade e imprima essas\n",
    "#informações de forma formatada.\n",
    "Nome = str(input('Digite seu nome:'))\n",
    "Idade = int(input('Digite sua idade:'))\n",
    "cidade = str(input('Digite sua cidade:'))\n",
    "print(f'Seu nome é {Nome}, sua idade é {Idade}, Sua cidade {cidade}' )\n"
   ]
  },
  {
   "cell_type": "code",
   "execution_count": 5,
   "id": "68a16b39-f6f7-489f-9ee1-97fa33d89d54",
   "metadata": {},
   "outputs": [
    {
     "name": "stdin",
     "output_type": "stream",
     "text": [
      "Digite a primeira nota: 6\n",
      "Digite a Segunda nota: 6\n",
      "digite a terceira nota 6\n"
     ]
    },
    {
     "name": "stdout",
     "output_type": "stream",
     "text": [
      "Sua media é: 6.0\n"
     ]
    }
   ],
   "source": [
    "###### Cálculo da Média Aritmética\n",
    "#Solicite três números, some-os e divida por 3 para exibir a média\n",
    "nota1 = float(input('Digite a primeira nota:'))\n",
    "nota2 = float(input('Digite a Segunda nota:'))\n",
    "nota3 = float(input('digite a terceira nota'))\n",
    "m = nota1 + nota2 + nota3 \n",
    "media = m / 3\n",
    "print('Sua media é:',media)"
   ]
  },
  {
   "cell_type": "code",
   "execution_count": 6,
   "id": "8430204e-7b84-4bc2-ab78-77ac9ef525ba",
   "metadata": {},
   "outputs": [
    {
     "name": "stdin",
     "output_type": "stream",
     "text": [
      "Digite a base: 5\n",
      "Digite a altura: 7\n"
     ]
    },
    {
     "name": "stdout",
     "output_type": "stream",
     "text": [
      "area do retangulo é: 35.0\n"
     ]
    }
   ],
   "source": [
    "#Cálculo da Área de um Retângulo\n",
    "#Peça a base e a altura de um retângulo e exiba a área (base × altura).\n",
    "base = float(input('Digite a base:'))\n",
    "altura = float(input('Digite a altura:'))\n",
    "\n",
    "area= base*altura\n",
    "print('area do retangulo é:',area)"
   ]
  },
  {
   "cell_type": "code",
   "execution_count": 7,
   "id": "a118c20c-bfa9-4281-99f8-c69c939467ec",
   "metadata": {},
   "outputs": [
    {
     "name": "stdin",
     "output_type": "stream",
     "text": [
      "Informe a temperatura em graus celsius: 30\n"
     ]
    },
    {
     "name": "stdout",
     "output_type": "stream",
     "text": [
      "Temperatura em Fahrenheit: 86.0\n"
     ]
    }
   ],
   "source": [
    "#Conversão de Temperatura\n",
    "#Solicite uma temperatura em graus Celsius e converta para Fahrenheit usando a\n",
    "#fórmula:\n",
    "#F = (C × 9/5) + 32.\n",
    "\n",
    "c = int(input('Informe a temperatura em graus celsius:'))\n",
    "\n",
    "f = (c * 9/5) + 32\n",
    "\n",
    "print('Temperatura em Fahrenheit:',f)"
   ]
  },
  {
   "cell_type": "code",
   "execution_count": 8,
   "id": "deaabef0-99bf-4125-bed0-abea75dc5ee1",
   "metadata": {},
   "outputs": [
    {
     "name": "stdin",
     "output_type": "stream",
     "text": [
      "Digite o valor do lados: 34\n"
     ]
    },
    {
     "name": "stdout",
     "output_type": "stream",
     "text": [
      "O Perimetro de uma Quadrado: 136.0\n"
     ]
    }
   ],
   "source": [
    "#Cálculo do Perímetro de um Quadrado\n",
    "#Peça o valor do lado e exiba o perímetro (4 × lado)\n",
    "lado = float(input('Digite o valor do lados:'))\n",
    "Perimetro = 4 * lado\n",
    "print('O Perimetro de uma Quadrado:',Perimetro)"
   ]
  },
  {
   "cell_type": "code",
   "execution_count": 10,
   "id": "e0b5a265-943b-4c64-8e37-6d5d80c52811",
   "metadata": {},
   "outputs": [
    {
     "name": "stdin",
     "output_type": "stream",
     "text": [
      "Digite o valor em Reais 10\n"
     ]
    },
    {
     "name": "stdout",
     "output_type": "stream",
     "text": [
      "Valor convertido para dolar é: 56.1\n"
     ]
    }
   ],
   "source": [
    "#Conversão de Moeda\n",
    "#Solicite um valor em reais e a taxa de conversão para dólar, mostrando o valor\n",
    "#convertido\n",
    "reais = float(input('Digite o valor em Reais'))\n",
    "dolar = 5.61\n",
    "\n",
    "covertendo = reais * dolar\n",
    "print('Valor convertido para dolar é:',covertendo)"
   ]
  },
  {
   "cell_type": "code",
   "execution_count": 12,
   "id": "9eece875-5ccb-4f07-99a9-0867b827cf06",
   "metadata": {},
   "outputs": [
    {
     "name": "stdin",
     "output_type": "stream",
     "text": [
      "digite a base: 3\n",
      "digite a altura: 5\n"
     ]
    },
    {
     "name": "stdout",
     "output_type": "stream",
     "text": [
      "Area de um triangulo: 7.5\n"
     ]
    }
   ],
   "source": [
    "#10. Cálculo da Área de um Triângulo\n",
    "#Peça a base e a altura de um triângulo e calcule a área usando:\n",
    "#área = (base × altura) / 2.\n",
    "b = float(input('digite a base:'))\n",
    "a = float(input('digite a altura:'))\n",
    "\n",
    "ar = (b * a)/ 2\n",
    "print('Area de um triangulo:',ar)"
   ]
  },
  {
   "cell_type": "code",
   "execution_count": 13,
   "id": "6c32d100-5972-41db-8d7c-f2e3de5cafe7",
   "metadata": {},
   "outputs": [
    {
     "name": "stdin",
     "output_type": "stream",
     "text": [
      "Digite seu peso: 84\n",
      "Digite seu altura: 1.73\n"
     ]
    },
    {
     "name": "stdout",
     "output_type": "stream",
     "text": [
      "seu IMC: 28.06642386982525\n"
     ]
    }
   ],
   "source": [
    "#11. Cálculo do IMC (Índice de Massa Corporal)\n",
    "#Solicite o peso (kg) e a altura (m) do usuário e calcule o IMC:\n",
    "#IMC = peso / (altura × altura).\n",
    "peso = float(input('Digite seu peso:'))\n",
    "altura = float(input('Digite seu altura:'))\n",
    "\n",
    "IMC = peso/(altura * altura)\n",
    "\n",
    "print('seu IMC:',IMC)"
   ]
  },
  {
   "cell_type": "code",
   "execution_count": 14,
   "id": "bbe1ebaa-b794-4ee3-8b95-be3be3d6ed87",
   "metadata": {},
   "outputs": [
    {
     "name": "stdin",
     "output_type": "stream",
     "text": [
      "digite o valor: 100\n",
      "digite o desconto: 10\n"
     ]
    },
    {
     "name": "stdout",
     "output_type": "stream",
     "text": [
      "valor final com desconto: 90.0\n"
     ]
    }
   ],
   "source": [
    "#12. Cálculo de Desconto em Produto\n",
    "#Peça o preço original e a porcentagem de desconto;\n",
    "#calcule o preço final:\n",
    "#preço_final = preço_original - (preço_original × desconto/100).\n",
    "valor = float(input('digite o valor:'))\n",
    "desconto = float(input('digite o desconto:'))\n",
    "\n",
    "preço_final = valor - (valor * desconto/100)\n",
    "print('valor final com desconto:',preço_final)"
   ]
  },
  {
   "cell_type": "code",
   "execution_count": 15,
   "id": "811428ed-c44f-4af9-a668-40ada5864719",
   "metadata": {},
   "outputs": [
    {
     "name": "stdin",
     "output_type": "stream",
     "text": [
      "Digite seu salario: 2000\n",
      "digite porcentagem de aumento: 10\n"
     ]
    },
    {
     "name": "stdout",
     "output_type": "stream",
     "text": [
      "Seu novo Salario: 2200.0\n"
     ]
    }
   ],
   "source": [
    "#13. Aumento Salarial\n",
    "#Solicite o salário atual e a porcentagem de aumento;\n",
    "#calcule o novo salário:\n",
    "#novo_salário = salário + (salário × aumento/100).\n",
    "salario = float(input('Digite seu salario:'))\n",
    "aumento = float(input('digite porcentagem de aumento:'))\n",
    "novo_salario = salario + (salario * aumento/100)\n",
    "print('Seu novo Salario:',novo_salario)"
   ]
  },
  {
   "cell_type": "code",
   "execution_count": 16,
   "id": "c658dc6e-0e76-40e3-b218-12d76c7f19bb",
   "metadata": {},
   "outputs": [
    {
     "name": "stdin",
     "output_type": "stream",
     "text": [
      "digite seu salario: 2000\n",
      "Digite o valor do  Bonus: 500\n"
     ]
    },
    {
     "name": "stdout",
     "output_type": "stream",
     "text": [
      "seu novo salario com  bonus: 2500.0\n"
     ]
    }
   ],
   "source": [
    "#14. Cálculo do Salário com Bônus\n",
    "#Peça o valor do salário e um valor de bônus e exiba a soma para o salário total\n",
    "s = float(input('digite seu salario:'))\n",
    "bonus= float(input('Digite o valor do  Bonus:'))\n",
    "\n",
    "salario_com_bonus= s+bonus\n",
    "print('seu novo salario com  bonus:',salario_com_bonus)"
   ]
  },
  {
   "cell_type": "code",
   "execution_count": null,
   "id": "47669bc4-02ef-429d-a14f-f1f174291d81",
   "metadata": {},
   "outputs": [],
   "source": [
    "#15. Cálculo do Custo de Viagem\n",
    "#Solicite a distância (km), o consumo médio (km/l) e o preço do combustível;\n",
    "#custo = (distância / consumo) × preço\n"
   ]
  }
 ],
 "metadata": {
  "kernelspec": {
   "display_name": "Python 3 (ipykernel)",
   "language": "python",
   "name": "python3"
  },
  "language_info": {
   "codemirror_mode": {
    "name": "ipython",
    "version": 3
   },
   "file_extension": ".py",
   "mimetype": "text/x-python",
   "name": "python",
   "nbconvert_exporter": "python",
   "pygments_lexer": "ipython3",
   "version": "3.12.7"
  }
 },
 "nbformat": 4,
 "nbformat_minor": 5
}
