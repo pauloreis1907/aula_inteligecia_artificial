{
 "cells": [
  {
   "cell_type": "code",
   "execution_count": null,
   "id": "6090d9db-f4d7-4a8b-91a0-5f04638ccf72",
   "metadata": {},
   "outputs": [],
   "source": [
    "quantidade_pessoas = int(input('Quantas pessoas ficarão no quarto? 1 a 4: '))\n",
    "# usando while para quantidade de hospede ser fora do padrão pedir para colocar novamente\n",
    "while quantidade_pessoas < 1 or quantidade_pessoas > 4:\n",
    "    print('Número inválido. Por favor, digite um número entre 1 e 4.')\n",
    "    quantidade_pessoas = int(input('Quantas pessoas ficarão no quarto? 1 a 4: '))\n",
    "\n",
    "hospedes = []\n",
    "\n",
    "# Usando for para perguntar nome e CPF de cada hóspede\n",
    "for i in range(quantidade_pessoas):\n",
    "    print(f\"\\n--- Hóspede {i + 1} ---\")\n",
    "    nome = input(\"Digite o nome: \")\n",
    "    cpf = input(\"Digite o CPF: \")\n",
    "    \n",
    "    # Adicionar tupla (nome, cpf) à lista\n",
    "    hospedes.append((nome, cpf))\n",
    "\n",
    "#Mostrar a lista final de hóspedes\n",
    "print(\"\\nLista de hóspedes no quarto:\")\n",
    "for hospede in hospedes:\n",
    "    print(f\"Nome: {hospede[0]}, CPF: {hospede[1]}\")\n"
   ]
  },
  {
   "cell_type": "code",
   "execution_count": 23,
   "id": "7d1e2875-4f12-4060-bc05-3016d996540f",
   "metadata": {},
   "outputs": [
    {
     "name": "stdout",
     "output_type": "stream",
     "text": [
      "Vendedores que bateram a meta:\n",
      "\n",
      "Bruno  vendeu R$  2800 e bateu a meta vendeu\n",
      "Daniela  vendeu R$  3200 e bateu a meta vendeu\n"
     ]
    }
   ],
   "source": [
    "# Lista de vendedores e seus respectivos valores de venda\n",
    "vendas = [\n",
    "    (\"Ana\", 1500),\n",
    "    (\"Bruno\", 2800),\n",
    "    (\"Carlos\", 800),\n",
    "    (\"Daniela\", 3200),\n",
    "    (\"Eduardo\", 1200)\n",
    "]\n",
    "\n",
    "# Definindo a meta de vendas\n",
    "meta = 2000\n",
    "\n",
    "# Usando for para analisar cada vendedor\n",
    "print('Vendedores que bateram a meta:\\n')\n",
    "for vendedor in vendas:\n",
    "    nome = vendedor[0]\n",
    "    valor = vendedor[1]\n",
    "\n",
    "    if valor >= meta:\n",
    "        print(nome,' vendeu R$ ',valor,'e bateu a meta vendeu')\n"
   ]
  },
  {
   "cell_type": "code",
   "execution_count": null,
   "id": "2ddfe702-637e-4619-94fa-8487d98b45c0",
   "metadata": {},
   "outputs": [],
   "source": [
    "#1. Imprima todos os itens de uma lista de compras.\n",
    "lista_compras = ['arroz', 'feijão', 'macarrão', 'azeite', 'farinha', 'açúcar']\n",
    "for p in lista_compras:\n",
    "    print(p)"
   ]
  },
  {
   "cell_type": "code",
   "execution_count": null,
   "id": "a0c4a00e-99e6-4287-a8e1-74cff2ed5d88",
   "metadata": {},
   "outputs": [],
   "source": [
    "#2. Calcule e exiba a soma de todos os números em uma lista.\n",
    "numeros = [10, 20, 30, 40, 50]\n",
    "for n in lista_compras:\n",
    "    print(n)"
   ]
  },
  {
   "cell_type": "code",
   "execution_count": null,
   "id": "33e22dad-5bd1-4e68-8702-18ea925e458c",
   "metadata": {},
   "outputs": [],
   "source": [
    "# Lista com os nomes dos produtos\n",
    "produtos = ['Notebook', 'Celular', 'Monitor', 'Teclado', 'Mouse']\n",
    "\n",
    "# Vendas em 2019 e 2020 (ordem corresponde aos produtos acima)\n",
    "vendas_2019 = [1000, 1500, 500, 400, 800]\n",
    "vendas_2020 = [1200, 1800, 450, 500, 900]\n",
    "\n",
    "print('Produtos com crescimento de vendas em 2020 comparado a 2019:\\n')\n",
    "\n",
    "# Usando for com enumerate para comparar as vendas\n",
    "for i, produto in enumerate(produtos):\n",
    "    venda_2019 = vendas_2019[i]\n",
    "    venda_2020 = vendas_2020[i]\n",
    "\n",
    "    if venda_2020 > venda_2019:\n",
    "        crescimento = ((venda_2020 / venda_2019) - 1) * 100\n",
    "        print('',produto)\n",
    "        print('  Vendas 2019:' ,venda_2019)\n",
    "        print('  Vendas 2019:' ,venda_2020)\n",
    "        print('  Crescimento:' ,round(crescimento, 2))\n"
   ]
  },
  {
   "cell_type": "code",
   "execution_count": 28,
   "id": "e26863d4-5bfa-4e53-a531-e16b557682f7",
   "metadata": {},
   "outputs": [
    {
     "name": "stdout",
     "output_type": "stream",
     "text": [
      "Quantidade de números ímpares: 4\n"
     ]
    }
   ],
   "source": [
    "#3. Conte quantos números ímpares existem em uma lista.\n",
    "numeros = [1, 4, 7, 10, 13, 16, 19, 22]\n",
    "contador_impares = 0\n",
    "for numero in numeros:\n",
    "    if numero % 2 != 0:  \n",
    "        contador_impares += 1\n",
    "print('Quantidade de números ímpares:',contador_impares)\n"
   ]
  },
  {
   "cell_type": "code",
   "execution_count": null,
   "id": "edffb202-273a-4871-8404-19be0a33dd90",
   "metadata": {},
   "outputs": [],
   "source": [
    "#4. Verifique quais números de uma lista são múltiplos de 5 e imprima-os.\n",
    "numeros = [5, 10, 13, 20, 25, 28, 30, 33, 40, 45]\n",
    "\n",
    "for i in numeros:\n",
    "    if i % 3 == 0 and i !=0:\n",
    "        print('É divisivel por 3:',i)"
   ]
  },
  {
   "cell_type": "code",
   "execution_count": null,
   "id": "8cc9aceb-1bc5-4e9e-84a6-b7b3caf9f88b",
   "metadata": {},
   "outputs": [],
   "source": [
    "#5. Multiplique todos os valores de uma lista por 2 e armazene em uma nova lista.\n",
    "numeros = [1, 4, 7, 10, 13, 16, 19, 22]\n",
    "nova_lista = []\n",
    "for numero in numeros:\n",
    "    novo_valor = numero * 2\n",
    "    nova_lista.append(novo_valor)\n",
    "print('Lista com valores multiplicados por 2:', nova_lista)\n"
   ]
  },
  {
   "cell_type": "code",
   "execution_count": null,
   "id": "dfc2a41c-8878-45bd-896c-e5232c340957",
   "metadata": {},
   "outputs": [],
   "source": [
    "#6. Transforme todas as palavras de uma lista de nomes em maiúsculas.\n",
    "nomes = ['joão', 'maria', 'ana', 'carlos']\n",
    "nomes_maiusculos = [nome.upper() for nome in nomes]\n",
    "\n",
    "print(nomes_maiusculos)"
   ]
  },
  {
   "cell_type": "code",
   "execution_count": null,
   "id": "6e5a1f61-1ce7-422e-b777-3aebe78a61ab",
   "metadata": {},
   "outputs": [],
   "source": [
    "#7. Remova os espaços extras das palavras de uma lista.\n",
    "palavras = ['   ', ' código  ', '  lista', ' estrutura ']\n",
    "palavras_sem_espacos = [palavra.strip() \n",
    "for palavra in palavras]\n",
    "\n",
    "print(palavras_sem_espacos)"
   ]
  },
  {
   "cell_type": "code",
   "execution_count": null,
   "id": "5cf7188f-1712-46b5-aaa9-10c8647bb6f3",
   "metadata": {},
   "outputs": [],
   "source": [
    "#8. Imprima apenas as palavras que começam com a letra \"A\".\n",
    "palavras2 = ['banana', 'abacaxi', 'uva', 'amora', 'laranja', 'acerola']\n",
    "palavras_L = [palavra.capitalize() \n",
    "for palavra in palavras2]\n",
    "   \n",
    "print(palavras_L)"
   ]
  },
  {
   "cell_type": "code",
   "execution_count": 46,
   "id": "fc37376b-a046-461f-a827-5a0d3e1a14dc",
   "metadata": {},
   "outputs": [
    {
     "name": "stdout",
     "output_type": "stream",
     "text": [
      "[32.0, 50.0, 68.0, 86.0, 104.0, 122.0]\n"
     ]
    }
   ],
   "source": [
    "#9. Dada uma lista de temperaturas em Celsius, converta todas para Fahrenheit.\n",
    "celsius = [0, 10, 20, 30, 40, 50]\n",
    "fahrenheit = [temp * 9/5 + 32 \n",
    "for temp in celsius]\n",
    "print(fahrenheit)\n"
   ]
  },
  {
   "cell_type": "code",
   "execution_count": null,
   "id": "e10de56f-52ac-4974-958f-4d0a66c11f6d",
   "metadata": {},
   "outputs": [],
   "source": [
    "#10. Dada uma lista de notas, exiba quais estão acima da média da turma.\n",
    "notas = [5.0, 7.5, 8.0, 6.0, 9.0, 10.0, 4.5, 3.0]\n",
    "tamanho = len(notas)\n",
    "for n in range(len(notas)):\n",
    "    if notas[n] >= 6:\n",
    "        print('Notas acima da media',notas[n])"
   ]
  },
  {
   "cell_type": "code",
   "execution_count": 62,
   "id": "d477830b-2bf8-4e99-8a98-9637ef8893a8",
   "metadata": {},
   "outputs": [
    {
     "name": "stdout",
     "output_type": "stream",
     "text": [
      "Bruno\n",
      "Carlos\n",
      "Eduardo\n"
     ]
    }
   ],
   "source": [
    "#11. Dada uma lista de alunos e suas notas, imprima o nome dos alunos que tiraram nota acima de 7.0.\n",
    "alunos = ['Ana', 'Bruno', 'Carlos', 'Diana', 'Eduardo']\n",
    "notas2 = [6.5, 8.0, 7.2, 5.5, 9.1]\n",
    "for aluno, nota in zip(alunos, notas2):\n",
    "    if nota > 7.0:\n",
    "        print(aluno)\n"
   ]
  },
  {
   "cell_type": "code",
   "execution_count": null,
   "id": "18f60cb6-a971-4818-88b0-3da21eae1b9a",
   "metadata": {},
   "outputs": [],
   "source": [
    "#12. Dada uma lista de produtos e preços, exiba quais produtos custam menos de R$ 10,00.\n",
    "produtos2 = ['Sabão', 'Detergente', 'Shampoo', 'Condicionador', 'Escova']\n",
    "precos2 = [3.5, 2.0, 15.0, 18.5, 8.0]\n",
    "for ao, noj in zip(produtos2, precos2):\n",
    "    if noj > 10.00:\n",
    "        print(ao)"
   ]
  },
  {
   "cell_type": "code",
   "execution_count": null,
   "id": "8d10e3fc-6d3c-4e61-b02d-61a24fcfd8fd",
   "metadata": {},
   "outputs": [],
   "source": [
    "#13. Imprima os funcionários cujo salário é maior que R$ 3000,00.\n",
    "funcionarios = ['João', 'Mariana', 'Carlos', 'Beatriz', 'Lucas']\n",
    "salarios = [2800, 3500, 2700, 4200, 3100]\n",
    "for fu, sa in zip(funcionarios, salarios):\n",
    "    if sa > 3000.00:\n",
    "        print(fu)"
   ]
  },
  {
   "cell_type": "code",
   "execution_count": 70,
   "id": "8d6b4746-968e-4406-86b8-83e228c5199e",
   "metadata": {},
   "outputs": [
    {
     "name": "stdout",
     "output_type": "stream",
     "text": [
      "Fernanda\n",
      "Luana\n"
     ]
    }
   ],
   "source": [
    "#14. Imprima os nomes dos alunos reprovados (nota < 5).\n",
    "alunos10 = ['Fernanda', 'Pedro', 'Luana', 'André', 'Gabriela']\n",
    "notas10 = [4.0, 6.5, 3.8, 7.2, 5.0]\n",
    "for al, notass in zip(alunos10, notas10):\n",
    "    if notass < 5:\n",
    "        print(al)"
   ]
  },
  {
   "cell_type": "code",
   "execution_count": 73,
   "id": "93ee6869-889b-47cc-90af-e351f209c986",
   "metadata": {},
   "outputs": [
    {
     "name": "stdout",
     "output_type": "stream",
     "text": [
      "Júlia\n",
      "Carla\n"
     ]
    }
   ],
   "source": [
    "#15. Exiba os clientes que têm mais de 50 anos.\n",
    "clientes = ['Roberto', 'Júlia', 'Ricardo', 'Carla', 'Sérgio']\n",
    "idades = [45, 52, 37, 60, 49]\n",
    "for cl, ida in zip(clientes, idades):\n",
    "    if ida > 50:\n",
    "        print(cl)"
   ]
  },
  {
   "cell_type": "code",
   "execution_count": 74,
   "id": "41993aa7-98be-403a-934f-374002452531",
   "metadata": {},
   "outputs": [
    {
     "name": "stdout",
     "output_type": "stream",
     "text": [
      "Produto acima do limite: ['Caderno', 'Estojo']\n"
     ]
    }
   ],
   "source": [
    "#17. Verifique quais produtos de uma lista são mais caros que um determinado valor.\n",
    "produtos9 = ['Caderno', 'Caneta', 'Lápis', 'Borracha', 'Estojo']\n",
    "precos9 = [25.0, 2.5, 1.0, 3.0, 20.0]\n",
    "limite = 10.0\n",
    "pppp = []\n",
    "for z in range(len(produtos9)):\n",
    "    if precos9[z] > limite:\n",
    "        pppp.append(produtos9[z])\n",
    "print('Produto acima do limite:',pppp)"
   ]
  },
  {
   "cell_type": "code",
   "execution_count": 85,
   "id": "c44850f4-22d4-4544-986a-5a06aa17b089",
   "metadata": {},
   "outputs": [
    {
     "name": "stdout",
     "output_type": "stream",
     "text": [
      "Alunos com nota máxima: ['Bruno', 'Daniel']\n"
     ]
    }
   ],
   "source": [
    "alunos9 = ['Alice', 'Bruno', 'Clara', 'Daniel']\n",
    "notas9 = [9.8, 10.0, 7.5, 10.0]\n",
    "\n",
    "alunos_nota_maxima = []\n",
    "\n",
    "for i in range(len(alunos9)):\n",
    "    if notas9[i] == 10.0:\n",
    "        alunos_nota_maxima.append(alunos9[i])\n",
    "\n",
    "print('Alunos com nota máxima:', alunos_nota_maxima)"
   ]
  },
  {
   "cell_type": "code",
   "execution_count": 86,
   "id": "0bd248cb-bebd-48a7-af60-5334fd15477e",
   "metadata": {},
   "outputs": [
    {
     "name": "stdout",
     "output_type": "stream",
     "text": [
      "Clientes com saldo negativo: ['José', 'Carlos']\n"
     ]
    }
   ],
   "source": [
    "#19. Encontre os clientes que têm saldo negativo.\n",
    "clientes = ['Maria', 'José', 'Paula', 'Carlos']\n",
    "saldos = [1200, -500, 300, -150]\n",
    "\n",
    "clientes_negativos = []\n",
    "\n",
    "for i in range(len(clientes)):\n",
    "    if saldos[i] < 0:\n",
    "        clientes_negativos.append(clientes[i])\n",
    "\n",
    "print('Clientes com saldo negativo:', clientes_negativos)\n"
   ]
  },
  {
   "cell_type": "code",
   "execution_count": 90,
   "id": "34759bd1-1b04-44c3-b361-deba5610dc80",
   "metadata": {},
   "outputs": [
    {
     "name": "stdout",
     "output_type": "stream",
     "text": [
      " Gabriel - 15  anos\n",
      " Mariana - 17  anos\n",
      " Sofia - 14  anos\n"
     ]
    }
   ],
   "source": [
    "#20. Liste os alunos e suas idades.\n",
    "alunos = ['Gabriel', 'Mariana', 'Sofia']\n",
    "idades = [15, 17, 14]\n",
    "\n",
    "for i in range(len(alunos)):\n",
    "    print('',alunos[i] ,'-', idades[i],' anos')"
   ]
  }
 ],
 "metadata": {
  "kernelspec": {
   "display_name": "Python 3 (ipykernel)",
   "language": "python",
   "name": "python3"
  },
  "language_info": {
   "codemirror_mode": {
    "name": "ipython",
    "version": 3
   },
   "file_extension": ".py",
   "mimetype": "text/x-python",
   "name": "python",
   "nbconvert_exporter": "python",
   "pygments_lexer": "ipython3",
   "version": "3.12.7"
  }
 },
 "nbformat": 4,
 "nbformat_minor": 5
}
