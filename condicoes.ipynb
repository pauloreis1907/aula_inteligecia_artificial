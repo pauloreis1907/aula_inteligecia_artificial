{
 "cells": [
  {
   "cell_type": "code",
   "execution_count": 2,
   "id": "bcb06d9b-4f54-4e79-9ef5-1b1d725f5ba4",
   "metadata": {},
   "outputs": [
    {
     "name": "stdout",
     "output_type": "stream",
     "text": [
      "False\n"
     ]
    }
   ],
   "source": [
    "idade = 15\n",
    "condicao = idade >= 18\n",
    "if idade >=18:\n",
    "    print('pode tira habilitação:')\n",
    "print(condicao)"
   ]
  },
  {
   "cell_type": "code",
   "execution_count": 4,
   "id": "cb8f3f0a-5fec-4888-818e-bdae34c855d6",
   "metadata": {},
   "outputs": [
    {
     "name": "stdout",
     "output_type": "stream",
     "text": [
      "recuperação\n"
     ]
    }
   ],
   "source": [
    "media = 4\n",
    "if media >= 6:\n",
    "    print('Aprovador:')\n",
    "elif media<6 and media>=3:\n",
    "    print('recuperação')\n",
    "else:\n",
    "    print('reprovador:')"
   ]
  },
  {
   "cell_type": "code",
   "execution_count": 12,
   "id": "67498040-8ab3-4690-b727-9f568966a6e7",
   "metadata": {},
   "outputs": [
    {
     "name": "stdin",
     "output_type": "stream",
     "text": [
      "digite valor de X: 7\n",
      "digite valor de y: 0\n"
     ]
    },
    {
     "name": "stdout",
     "output_type": "stream",
     "text": [
      "eixo x\n"
     ]
    }
   ],
   "source": [
    "x = float(input('digite valor de X:'))\n",
    "y = float(input('digite valor de y:'))\n",
    "\n",
    "if x == 0 and y ==0:\n",
    "    print('origen')\n",
    "elif x != 0 and y == 0:\n",
    "    print('eixo x')\n",
    "elif y != 0 and x == 0:\n",
    "    print('eixo y')\n",
    "elif x >0 and y > 0:\n",
    "    print('Q1')\n",
    "elif x<0 and y>0:\n",
    "    print('Q2')\n",
    "elif x < 0 and y < 0:\n",
    "    print('Q3')\n",
    "elif x> 0 and y<0:\n",
    "    print('Q4')"
   ]
  },
  {
   "cell_type": "code",
   "execution_count": 18,
   "id": "a4ff95cd-1dc2-4648-aeb2-1a7f88062959",
   "metadata": {},
   "outputs": [
    {
     "name": "stdin",
     "output_type": "stream",
     "text": [
      "digite o valor -1\n"
     ]
    },
    {
     "name": "stdout",
     "output_type": "stream",
     "text": [
      "negativo\n"
     ]
    }
   ],
   "source": [
    "#crie um algoritmo que leia um número inteiro e verifique se ele é positivo ou \n",
    "#negativo\n",
    "numero = float(input('digite o valor'))\n",
    "if numero >= 0:\n",
    "    print('positivo:')\n",
    "    \n",
    "else:\n",
    "    print('negativo')"
   ]
  },
  {
   "cell_type": "code",
   "execution_count": 20,
   "id": "9cfadf7b-b6cc-407e-afc4-f651d4fa476b",
   "metadata": {},
   "outputs": [
    {
     "name": "stdin",
     "output_type": "stream",
     "text": [
      "Digite o numero: 2\n"
     ]
    },
    {
     "name": "stdout",
     "output_type": "stream",
     "text": [
      "par\n"
     ]
    }
   ],
   "source": [
    "#Crie um algoritmo que leia um número inteiro e verifique se ele é par ou ímpar, e \n",
    "#imprima a mensagem “O número informado é par”, caso o número seja par e “O \n",
    "#número informado é ímpar”, caso o número digitado pelo usuário seja ímpar. \n",
    "#Dica: Utilize o operador módulo (%) para determinar o resto da divisão por 2.\n",
    "n = float(input('Digite o numero:'))\n",
    "if n%2 ==0:\n",
    "    print('par')\n",
    "else:\n",
    "    print('impar')\n",
    "     "
   ]
  },
  {
   "cell_type": "code",
   "execution_count": 25,
   "id": "e2eb8ae8-09e4-4bfb-ac61-269aeb8e7a3c",
   "metadata": {},
   "outputs": [
    {
     "name": "stdin",
     "output_type": "stream",
     "text": [
      "Digite o numero: 9\n"
     ]
    },
    {
     "name": "stdout",
     "output_type": "stream",
     "text": [
      "É múltiplo de 3\n"
     ]
    }
   ],
   "source": [
    "#Descrição: \n",
    "#Crie um algoritmo que leia um número inteiro e verifique se ele é múltiplo de 3. \n",
    "#Dica: Se o resto da divisão do número por 3 for igual a zero, ele é múltiplo de 3. \n",
    "p = float(input('Digite o numero:'))\n",
    "\n",
    "if p%3 ==0:\n",
    "    print('É múltiplo de 3')\n",
    "else:\n",
    "    print('Não É múltiplo de 3')"
   ]
  },
  {
   "cell_type": "code",
   "execution_count": 28,
   "id": "05235c50-87b0-4953-9862-b0404268f798",
   "metadata": {},
   "outputs": [
    {
     "name": "stdin",
     "output_type": "stream",
     "text": [
      "Digite o numero: 3\n",
      "Digite o numero: 4\n"
     ]
    },
    {
     "name": "stdout",
     "output_type": "stream",
     "text": [
      "Segundo numro e maior\n"
     ]
    }
   ],
   "source": [
    "#Crie um algoritmo que leia dois números inteiros e determine qual deles é o maior. \n",
    "#Se os números forem iguais, exiba uma mensagem informando que são iguais.\n",
    "b = float(input('Digite o numero:'))\n",
    "c = float(input('Digite o numero:'))\n",
    "if b > c:\n",
    "    print('Primeiro numero e maior')\n",
    "elif c > b:\n",
    "    print('Segundo numero e maior')\n",
    "else:\n",
    "    print('numeros são iguais:')"
   ]
  },
  {
   "cell_type": "code",
   "execution_count": 30,
   "id": "afc04d57-5391-49f0-9eb1-5ab35efd0a43",
   "metadata": {},
   "outputs": [
    {
     "name": "stdin",
     "output_type": "stream",
     "text": [
      "Digite o numero1: 1\n",
      "Digite o numero2: 2\n",
      "Digite o numero3: 5\n"
     ]
    },
    {
     "name": "stdout",
     "output_type": "stream",
     "text": [
      "o maior entre eles é: 5\n"
     ]
    }
   ],
   "source": [
    "#Crie um algoritmo que leia três números inteiros e exiba o maior deles.\n",
    "n1 = int(input('Digite o numero1:'))\n",
    "n2 = int(input('Digite o numero2:'))\n",
    "n3 = int(input('Digite o numero3:'))\n",
    "maior = n1\n",
    "if n2 > maior:\n",
    "    maior = n2\n",
    "if n3 > maior:\n",
    "    maior = n3\n",
    "print('o maior entre eles é:',maior)"
   ]
  },
  {
   "cell_type": "code",
   "execution_count": 35,
   "id": "27ada0c3-5767-45f0-b3f3-a5bda82f8060",
   "metadata": {},
   "outputs": [
    {
     "name": "stdin",
     "output_type": "stream",
     "text": [
      "Digite sua idade: 19\n"
     ]
    },
    {
     "name": "stdout",
     "output_type": "stream",
     "text": [
      "maior de idade:\n"
     ]
    }
   ],
   "source": [
    "#Crie um algoritmo que leia a idade de uma pessoa e verifique se ela é maior de \n",
    "#idade (18 anos ou mais) ou menor de idade.  \n",
    "#Dica: Utilize a comparação >=. \n",
    "ida = int(input('Digite sua idade:'))\n",
    "\n",
    "if ida >= 18:\n",
    "    print('maior de idade:')\n",
    "else:\n",
    "    print('Menor de idade:')"
   ]
  },
  {
   "cell_type": "code",
   "execution_count": 37,
   "id": "cc2b6500-a888-4c69-8b50-85042b91301c",
   "metadata": {},
   "outputs": [
    {
     "name": "stdin",
     "output_type": "stream",
     "text": [
      "Digite a sua nota 7\n"
     ]
    },
    {
     "name": "stdout",
     "output_type": "stream",
     "text": [
      "Aprovado\n"
     ]
    }
   ],
   "source": [
    "#Crie um algoritmo que leia a nota de um aluno (de 0 a 10) e verifique se o aluno foi \n",
    "#aprovado (nota maior ou igual a 7) ou reprovado.\n",
    "nota = float(input('Digite a sua nota'))\n",
    "if nota >= 7:\n",
    "    print('Aprovado')\n",
    "else:\n",
    "    print('Reprovado')"
   ]
  },
  {
   "cell_type": "code",
   "execution_count": 43,
   "id": "5b9edaf2-5fb4-455b-a21b-caf1786f5eca",
   "metadata": {},
   "outputs": [
    {
     "name": "stdin",
     "output_type": "stream",
     "text": [
      "Digite a letra e\n"
     ]
    },
    {
     "name": "stdout",
     "output_type": "stream",
     "text": [
      "É uma vogal\n"
     ]
    }
   ],
   "source": [
    "#Crie um algoritmo que leia um caractere e verifique se ele é uma vogal ou \n",
    "#consoante. \n",
    "#Dica: Considere as vogais a, e, i, o, u (maiúsculas e minúsculas).\n",
    "letra = str(input('Digite a letra'))\n",
    "if letra.isalpha() and len(letra) == 1:\n",
    "    if letra.lower() in ['a','e','i','o','u','A','E','I','O','U']:\n",
    "        print('É uma vogal')\n",
    "    else:\n",
    "        print('é uma consoante')\n",
    "else:\n",
    "    print('letra invalidar, apenas vogal ou consoante')\n",
    "    "
   ]
  },
  {
   "cell_type": "code",
   "execution_count": 3,
   "id": "db38f701-d535-4506-9003-ca7fde7b1cfa",
   "metadata": {},
   "outputs": [
    {
     "name": "stdin",
     "output_type": "stream",
     "text": [
      "Digite o dia de 1 Á 7 1\n"
     ]
    },
    {
     "name": "stdout",
     "output_type": "stream",
     "text": [
      "segunda:\n"
     ]
    }
   ],
   "source": [
    "#Crie um algoritmo que leia um número representando o dia da semana (de 1 a 7) e \n",
    "#exiba o nome correspondente (por exemplo, 1 para Domingo, 2 para Segunda\n",
    "#feira, etc.).  \n",
    "#Dica: Você pode usar a estrutura caso (ou escolha). \n",
    "dia = int(input('Digite o dia de 1 Á 7'))\n",
    "if dia == 1:\n",
    "    print('segunda:')\n",
    "elif dia == 2:\n",
    "    print('terça')\n",
    "elif dia == 3:\n",
    "    print('quarta')\n",
    "elif dia == 4:\n",
    "    print('quinta')\n",
    "elif dia == 5:\n",
    "    print('sexta')\n",
    "elif dia == 6:\n",
    "    print('sabado')\n",
    "elif dia == 7:\n",
    "    print('domigo')\n",
    "else:\n",
    "    print('isso nao dia da semana:')"
   ]
  },
  {
   "cell_type": "code",
   "execution_count": 50,
   "id": "282781b4-dc83-4327-a47f-a176b4ce2d12",
   "metadata": {},
   "outputs": [
    {
     "name": "stdin",
     "output_type": "stream",
     "text": [
      "Digite seu mes: 4\n"
     ]
    },
    {
     "name": "stdout",
     "output_type": "stream",
     "text": [
      "Esse mes tem 30 dias\n"
     ]
    }
   ],
   "source": [
    "#Crie um algoritmo que leia um número representando um mês (de 1 a 12) e exiba a \n",
    "#quantidade de dias daquele mês (considere fevereiro com 28 dias). \n",
    "mes = int(input('Digite seu mes:'))\n",
    "if mes == 2:\n",
    "    print('fereiro')\n",
    "elif mes in [4,6,9,11]:\n",
    "    print('Esse mes tem 30 dias')\n",
    "elif mes in [1,3,5,7,8,10,12]:\n",
    "    print('esse mes tem 31 dias')\n",
    "else:\n",
    "    print('mes invalido, digite de 1 a 12')"
   ]
  },
  {
   "cell_type": "code",
   "execution_count": 54,
   "id": "5efb2b06-fd8b-48a5-b96d-29470602b4a7",
   "metadata": {},
   "outputs": [
    {
     "name": "stdin",
     "output_type": "stream",
     "text": [
      "informe o ano: 2025\n"
     ]
    },
    {
     "name": "stdout",
     "output_type": "stream",
     "text": [
      "Não e bissexto\n"
     ]
    }
   ],
   "source": [
    "#crie um algoritmo que leia um ano e verifique se ele é bissexto. \n",
    "#Dica: Um ano é bissexto se for divisível por 4 e não for divisível por 100, ou se for \n",
    "#divisível por 400. \n",
    "ano = int(input('informe o ano:'))\n",
    "\n",
    "if (ano%4 == 0 and ano%100 !=0) or ano%400 == 0:\n",
    "    print('ano e bissexto')\n",
    "else:\n",
    "    print('Não e bissexto')"
   ]
  },
  {
   "cell_type": "code",
   "execution_count": 56,
   "id": "52f24d82-9f47-4d87-9255-880fbcc9919d",
   "metadata": {},
   "outputs": [
    {
     "name": "stdin",
     "output_type": "stream",
     "text": [
      "Digite seu salario: 999\n"
     ]
    },
    {
     "name": "stdout",
     "output_type": "stream",
     "text": [
      "salario com mais 10% 1098.9\n"
     ]
    }
   ],
   "source": [
    "#Crie um algoritmo que leia o salário de um funcionário e, se o salário for inferior a \n",
    "#R$1000, aumente-o em 10%. Caso contrário, mantenha o salário inalterado e exiba \n",
    "#o valor final.  \n",
    "salario = float(input('Digite seu salario:'))\n",
    "\n",
    "if salario < 1000:\n",
    "    salario = salario * 1.10\n",
    "    print('salario com mais 10%:',salario)\n",
    "else:\n",
    "    print('salario inalterado')"
   ]
  },
  {
   "cell_type": "code",
   "execution_count": 58,
   "id": "b40921f7-85aa-4753-9ad0-bf854f235906",
   "metadata": {},
   "outputs": [
    {
     "name": "stdin",
     "output_type": "stream",
     "text": [
      "Digite o numero: 3\n"
     ]
    },
    {
     "name": "stdout",
     "output_type": "stream",
     "text": [
      "Esta entre o 1 e 100:\n"
     ]
    }
   ],
   "source": [
    "#Crie um algoritmo que leia um número e verifique se ele está dentro do intervalo \n",
    "#[1, 100].  \n",
    "#Dica: Utilize operadores lógicos para combinar as condições.\n",
    "l1 = int(input('Digite o numero:'))\n",
    "if l1>1 and l1<100:\n",
    "    print('Esta entre o 1 e 100:')\n",
    "else:\n",
    "    print('Não esta entre 1 e 100')"
   ]
  },
  {
   "cell_type": "code",
   "execution_count": 60,
   "id": "e5a924c6-1930-490c-bf4c-021095d555d8",
   "metadata": {},
   "outputs": [
    {
     "name": "stdin",
     "output_type": "stream",
     "text": [
      "Digite o numero: 2\n",
      "Digite o numero: 3\n"
     ]
    },
    {
     "name": "stdout",
     "output_type": "stream",
     "text": [
      "são diferentes\n"
     ]
    }
   ],
   "source": [
    "#Crie um algoritmo que leia dois números inteiros e verifique se eles são iguais ou \n",
    "#diferentes.\n",
    "n10 = int(input('Digite o numero:'))\n",
    "n20 = int(input('Digite o numero:'))\n",
    "if n10 == n20:\n",
    "    print('numeros são iguais:')\n",
    "elif n10 !=n20:\n",
    "    print('são diferentes')"
   ]
  },
  {
   "cell_type": "code",
   "execution_count": 63,
   "id": "f9a0225f-461d-43e5-98fe-0273d8328308",
   "metadata": {},
   "outputs": [
    {
     "name": "stdin",
     "output_type": "stream",
     "text": [
      "Digite o a temperatura: 26\n"
     ]
    },
    {
     "name": "stdout",
     "output_type": "stream",
     "text": [
      "quente\n"
     ]
    }
   ],
   "source": [
    "#Crie um algoritmo que leia a temperatura (em graus Celsius) e exiba uma \n",
    "#mensagem informando se está frio (menos de 15°C), moderado (entre 15°C e 25°C) \n",
    "#ou quente (acima de 25°C). \n",
    "tem = int(input('Digite o a temperatura:'))\n",
    "if tem <15:\n",
    "    print('esta frio')\n",
    "elif tem>15 and tem<25:\n",
    "    print('moderado')\n",
    "elif tem> 25:\n",
    "    print('quente')"
   ]
  }
 ],
 "metadata": {
  "kernelspec": {
   "display_name": "Python 3 (ipykernel)",
   "language": "python",
   "name": "python3"
  },
  "language_info": {
   "codemirror_mode": {
    "name": "ipython",
    "version": 3
   },
   "file_extension": ".py",
   "mimetype": "text/x-python",
   "name": "python",
   "nbconvert_exporter": "python",
   "pygments_lexer": "ipython3",
   "version": "3.12.7"
  }
 },
 "nbformat": 4,
 "nbformat_minor": 5
}
