{
 "cells": [
  {
   "cell_type": "code",
   "execution_count": 6,
   "id": "5baee012-db7c-4643-857a-625157e6ff93",
   "metadata": {},
   "outputs": [
    {
     "name": "stdout",
     "output_type": "stream",
     "text": [
      "Python\n"
     ]
    }
   ],
   "source": [
    "# Crie uma variável com a string \"Linguagem Python\" e imprima apenas a palavra \"Python\" \n",
    "#usando fatiamento. \n",
    "texto = 'Liguangem Python'\n",
    "\n",
    "print(texto[::10)"
   ]
  },
  {
   "cell_type": "code",
   "execution_count": 10,
   "id": "28115563-284f-446a-888e-d090a145edbf",
   "metadata": {},
   "outputs": [
    {
     "name": "stdout",
     "output_type": "stream",
     "text": [
      "P\n",
      "o\n"
     ]
    }
   ],
   "source": [
    " #Dada a string mensagem = \"Programar é divertido\", imprima o primeiro e o último \n",
    "#caractere. \n",
    "l = 'Programar e divertido'\n",
    "print(l[0])\n",
    "print(l[-1])"
   ]
  },
  {
   "cell_type": "code",
   "execution_count": 12,
   "id": "0a9663f7-bbf3-475b-8572-7b914fcc4bca",
   "metadata": {},
   "outputs": [
    {
     "name": "stdout",
     "output_type": "stream",
     "text": [
      "acitamrofnI\n"
     ]
    }
   ],
   "source": [
    "#Imprima a string \"Informática\" invertida. \n",
    "r = 'Informatica' \n",
    "print(r[::-1])"
   ]
  },
  {
   "cell_type": "code",
   "execution_count": 13,
   "id": "ef64dac1-5bef-4c16-be39-9e6a61e0bc67",
   "metadata": {},
   "outputs": [
    {
     "name": "stdout",
     "output_type": "stream",
     "text": [
      "mputad\n"
     ]
    }
   ],
   "source": [
    " #Dada a string palavra = \"Computador\", use slicing para imprimir \"mputad\". \n",
    "palavra = \"Computador\"\n",
    "print(palavra[2:8])"
   ]
  },
  {
   "cell_type": "code",
   "execution_count": 15,
   "id": "3ae15a6d-0f38-4a24-a495-0c74f73e4a93",
   "metadata": {},
   "outputs": [
    {
     "name": "stdout",
     "output_type": "stream",
     "text": [
      "Jhor rle\n"
     ]
    }
   ],
   "source": [
    "#crie uma string qualquer e imprima seus três primeiros e três últimos caracteres. \n",
    "j = 'Jhorle'\n",
    "print(j[0:4],j[3:6])"
   ]
  },
  {
   "cell_type": "code",
   "execution_count": 22,
   "id": "d9741be4-b610-4206-9deb-b3a7bf342a2a",
   "metadata": {},
   "outputs": [
    {
     "name": "stdout",
     "output_type": "stream",
     "text": [
      "TECNOLOGIA\n"
     ]
    }
   ],
   "source": [
    "#transforme a string \"tecnologia\" em maiúsculas. \n",
    "t ='tecnologia'\n",
    "print(t.upper())"
   ]
  },
  {
   "cell_type": "code",
   "execution_count": 27,
   "id": "679801b2-3014-4b72-8625-f43a21a24c22",
   "metadata": {},
   "outputs": [
    {
     "name": "stdout",
     "output_type": "stream",
     "text": [
      "educação\n"
     ]
    }
   ],
   "source": [
    "# Converta = \"EDUCAÇÃO\" para letras minúsculas.\n",
    "Converta = \"EDUCAÇÃO\"\n",
    "print(Converta.lower())"
   ]
  },
  {
   "cell_type": "code",
   "execution_count": 29,
   "id": "0b0880c9-17d0-4a36-8dfb-4d4ce4dbf124",
   "metadata": {},
   "outputs": [
    {
     "name": "stdout",
     "output_type": "stream",
     "text": [
      "Python é sensacional\n"
     ]
    }
   ],
   "source": [
    "#tilize o método capitalize() na string \"python é sensacional\"\n",
    "c = 'python é sensacional'\n",
    "print(c.capitalize())"
   ]
  },
  {
   "cell_type": "code",
   "execution_count": 31,
   "id": "b3abc721-7334-4675-a5b9-8545ed70a804",
   "metadata": {},
   "outputs": [
    {
     "name": "stdout",
     "output_type": "stream",
     "text": [
      "Aprendendo Python Na Prática\n"
     ]
    }
   ],
   "source": [
    "#aplique o método title() na frase \"aprendendo python na prática\"\n",
    "frase = \"aprendendo python na prática\"\n",
    "print(frase.title())"
   ]
  },
  {
   "cell_type": "code",
   "execution_count": 33,
   "id": "9e45cc8b-9b8d-4573-ace6-1ce1f103fa0e",
   "metadata": {},
   "outputs": [
    {
     "name": "stdout",
     "output_type": "stream",
     "text": [
      "curso de python\n"
     ]
    }
   ],
   "source": [
    "#Remova os espaços em branco da string \"   curso de python   \".\n",
    "m = '   curso de python       '\n",
    "print(m.strip())"
   ]
  },
  {
   "cell_type": "code",
   "execution_count": 37,
   "id": "767f765d-b4dd-42d2-90ad-b0e14ab372ba",
   "metadata": {},
   "outputs": [
    {
     "name": "stdout",
     "output_type": "stream",
     "text": [
      "eu gosto de python\n"
     ]
    }
   ],
   "source": [
    "#Substitua \"Java\" por \"Python\" na frase \"Eu gosto de Java\". \n",
    "z = 'eu gosto de java'\n",
    "print(z.replace('java','python'))"
   ]
  },
  {
   "cell_type": "code",
   "execution_count": null,
   "id": "5f4b458a-50e1-4f69-a2a2-4621571e0cee",
   "metadata": {},
   "outputs": [],
   "source": []
  },
  {
   "cell_type": "code",
   "execution_count": 38,
   "id": "33d82e6b-ad9b-4729-bc8e-edf1ba84d868",
   "metadata": {},
   "outputs": [
    {
     "name": "stdout",
     "output_type": "stream",
     "text": [
      "['estudar', 'praticar', 'aprender']\n"
     ]
    }
   ],
   "source": [
    " #Separe a string \"estudar praticar aprender\" em uma lista de palavras. \n",
    "ll = 'estudar praticar aprender'\n",
    "print(ll.split())"
   ]
  },
  {
   "cell_type": "code",
   "execution_count": 39,
   "id": "a384de07-4545-449f-8479-5f89b77436fb",
   "metadata": {},
   "outputs": [
    {
     "name": "stdout",
     "output_type": "stream",
     "text": [
      "Pythonéfácil\n"
     ]
    }
   ],
   "source": [
    "#Junte a lista [\"Python\", \"é\", \"fácil\"] em uma única string com espaços entre as palavras.\n",
    "lista = \"Python\", \"é\", \"fácil\"\n",
    "print(''.join(lista))\n"
   ]
  },
  {
   "cell_type": "code",
   "execution_count": 40,
   "id": "81c0b8a1-6217-475e-ab92-f9df56d35f97",
   "metadata": {},
   "outputs": [
    {
     "name": "stdout",
     "output_type": "stream",
     "text": [
      "@n@lise de d@dos\n"
     ]
    }
   ],
   "source": [
    "#14. Substitua todos os caracteres \"a\" por \"@\" na string \"análise de dados\". \n",
    "aaa = 'analise de dados' \n",
    "print(aaa.replace('a','@'))"
   ]
  },
  {
   "cell_type": "code",
   "execution_count": 44,
   "id": "b5adf005-bc6a-44d0-843c-d657f1c3dd69",
   "metadata": {},
   "outputs": [
    {
     "name": "stdout",
     "output_type": "stream",
     "text": [
      "['2025', '05', '16']\n"
     ]
    }
   ],
   "source": [
    "#15. Faça o split da string \"2025-05-16\" usando o hífen como separador. \n",
    "ss = '2025-05-16'\n",
    "print(ss.split('-'))"
   ]
  },
  {
   "cell_type": "code",
   "execution_count": 46,
   "id": "12043c3d-c62d-412b-99f0-abe9fe9089d0",
   "metadata": {},
   "outputs": [
    {
     "name": "stdout",
     "output_type": "stream",
     "text": [
      "mento\n"
     ]
    }
   ],
   "source": [
    "#16. Verifique se a string \"desenvolvimento\" contém a palavra \"mente\". "
   ]
  }
 ],
 "metadata": {
  "kernelspec": {
   "display_name": "Python 3 (ipykernel)",
   "language": "python",
   "name": "python3"
  },
  "language_info": {
   "codemirror_mode": {
    "name": "ipython",
    "version": 3
   },
   "file_extension": ".py",
   "mimetype": "text/x-python",
   "name": "python",
   "nbconvert_exporter": "python",
   "pygments_lexer": "ipython3",
   "version": "3.12.7"
  }
 },
 "nbformat": 4,
 "nbformat_minor": 5
}
