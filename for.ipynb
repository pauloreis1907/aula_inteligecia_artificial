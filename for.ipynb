{
 "cells": [
  {
   "cell_type": "code",
   "execution_count": null,
   "id": "d6392093-b2b2-4d46-ad16-d6402eed0195",
   "metadata": {},
   "outputs": [],
   "source": [
    "animais = [\"cachorro\", \"gato\", \"elefante\"]\n",
    "for animal in animais: \n",
    "    print(animal)"
   ]
  },
  {
   "cell_type": "code",
   "execution_count": null,
   "id": "e62bb28c-8c1d-4e9d-9f0d-9da3cea1504a",
   "metadata": {},
   "outputs": [],
   "source": [
    "for i in range(5):\n",
    "    print(i)"
   ]
  },
  {
   "cell_type": "code",
   "execution_count": 20,
   "id": "83f7d8c3-8326-4e9c-8465-4d5bbcdd5d3a",
   "metadata": {},
   "outputs": [
    {
     "name": "stdout",
     "output_type": "stream",
     "text": [
      "<class 'range'>\n",
      "[0, 1, 2, 3, 4, 5, 6, 7, 8, 9]\n",
      "[1, 4, 7, 10, 13, 16, 19, 22, 25, 28, 31, 34, 37, 40, 43, 46, 49, 52, 55, 58, 61, 64, 67, 70, 73, 76, 79, 82, 85, 88, 91, 94, 97]\n"
     ]
    }
   ],
   "source": [
    "x = range(0,10)\n",
    "print(type(x)) # <class 'range'> veja que o tipo retornado é 'range'\n",
    "print(list(x)) # [0, 1, 2, 3, 4, 5, 6, 7, 8, 9]\n",
    "y = range(1,100,3)\n",
    "print(list(y)) # [4, 6, 8, 10, 12, 14, 16, 18, 20, 22, 24, 26, 28]"
   ]
  },
  {
   "cell_type": "code",
   "execution_count": 19,
   "id": "dc8087a9-02ef-4a0e-8e7f-5e49a90a865b",
   "metadata": {},
   "outputs": [
    {
     "name": "stdout",
     "output_type": "stream",
     "text": [
      "China\n",
      "Índia\n"
     ]
    }
   ],
   "source": [
    "paises = ['China', 'Índia', 'Tailândia']\n",
    "for pais in paises:\n",
    "    print(pais)\n",
    "    if pais == \"Índia\":\n",
    "        break"
   ]
  },
  {
   "cell_type": "code",
   "execution_count": null,
   "id": "410c8667-9e68-462d-980a-3ecf8a74a309",
   "metadata": {},
   "outputs": [],
   "source": [
    "#Podemos aplicar a função range() em conjunto com o for:\n",
    "for i in range(10):\n",
    "    print(i)\n",
    "for data in range(1995,2018):\n",
    "    print(data)"
   ]
  },
  {
   "cell_type": "code",
   "execution_count": null,
   "id": "6ae8b6f3-6bfc-4150-9934-b50f1bea7b19",
   "metadata": {},
   "outputs": [],
   "source": [
    "for i in range(1, 100):\n",
    "    if i % 3 == 0 and i !=0:\n",
    "        print('É divisivel por 3:',i)\n"
   ]
  },
  {
   "cell_type": "code",
   "execution_count": null,
   "id": "dab6348a-fbd8-4397-8e40-e249e8d82c1a",
   "metadata": {},
   "outputs": [],
   "source": [
    "#Loops Encadeados\n",
    "#Loops encadeados são loops dentro de loops, o \"loop de dentro\" será executado uma vez para cada iteração do \"loop de fora\".\n",
    "cores = ['azul','verde','amarelo']\n",
    "numeros = [1,2,3]\n",
    "for cor in cores:\n",
    "    for numero in numeros:\n",
    "       print(f'{cor.capitalize()} - {numero}')"
   ]
  },
  {
   "cell_type": "code",
   "execution_count": 26,
   "id": "44f11ea3-365b-44fd-87c6-32a346f4d942",
   "metadata": {},
   "outputs": [
    {
     "name": "stdout",
     "output_type": "stream",
     "text": [
      "0 -> arroz\n",
      "1 -> feijão\n",
      "2 -> batata\n"
     ]
    }
   ],
   "source": [
    "#Enumerando Valores\n",
    "#O método enumerate() adiciona um contador a um iterável e o retorna o objeto enumerate.\n",
    "#O método enumerate() recebe dois parâmetros:\n",
    "alimentos = ['arroz','feijão','batata']\n",
    "for indice,alimento in enumerate(alimentos):\n",
    "    print(f'{indice} -> {alimento}')"
   ]
  },
  {
   "cell_type": "code",
   "execution_count": null,
   "id": "253a0dc1-a96a-40d2-9836-d416386fb754",
   "metadata": {},
   "outputs": [],
   "source": [
    "produto = ['coca','pepsi','sprit']\n",
    "producao = [15000,12000,13000]\n",
    "tamanho = len(produto)\n",
    "print(tamanho)\n",
    "for i in range(len(produto)):\n",
    "    if producao[i] >= 1000:\n",
    "        print('',produto[i],producao[i])"
   ]
  },
  {
   "cell_type": "code",
   "execution_count": 44,
   "id": "ed7d6723-6bf3-40ba-82d6-ef1c71fa5cf4",
   "metadata": {},
   "outputs": [
    {
     "name": "stdout",
     "output_type": "stream",
     "text": [
      "Produtos abaixo do nível crítico: ['Macarrão', 'Óleo']\n"
     ]
    }
   ],
   "source": [
    "#16. Dado um estoque e um mínimo aceitável, informe os produtos abaixo do nível crítico.\n",
    "produtos = ['Arroz', 'Feijão', 'Macarrão', 'Óleo', 'Açúcar']\n",
    "estoque = [50, 200, 30, 10, 90]\n",
    "nivel_critico = 40\n",
    "produtos_criticos = []\n",
    "\n",
    "for t in range(len(produtos)):\n",
    "    if estoque[t] < nivel_critico:\n",
    "        produtos_criticos.append(produtos[t])\n",
    "\n",
    "print('Produtos abaixo do nível crítico:', produtos_criticos)\n"
   ]
  },
  {
   "cell_type": "code",
   "execution_count": 45,
   "id": "c7c97496-282c-4e1f-a2a3-2b3a3fc311de",
   "metadata": {},
   "outputs": [
    {
     "name": "stdout",
     "output_type": "stream",
     "text": [
      "Produto acima do limite: ['Caderno', 'Estojo']\n"
     ]
    }
   ],
   "source": []
  },
  {
   "cell_type": "code",
   "execution_count": null,
   "id": "4c8cca32-5ffd-457c-98ec-810d8568a78b",
   "metadata": {},
   "outputs": [],
   "source": [
    "#18. Encontre os alunos que atingiram nota máxima.\n",
    "alunos = ['Alice', 'Bruno', 'Clara', 'Daniel']\n",
    "notas = [9.8, 10.0, 7.5, 10.0]\n"
   ]
  }
 ],
 "metadata": {
  "kernelspec": {
   "display_name": "Python 3 (ipykernel)",
   "language": "python",
   "name": "python3"
  },
  "language_info": {
   "codemirror_mode": {
    "name": "ipython",
    "version": 3
   },
   "file_extension": ".py",
   "mimetype": "text/x-python",
   "name": "python",
   "nbconvert_exporter": "python",
   "pygments_lexer": "ipython3",
   "version": "3.12.7"
  }
 },
 "nbformat": 4,
 "nbformat_minor": 5
}
